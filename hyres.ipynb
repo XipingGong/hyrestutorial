{
 "cells": [
  {
   "cell_type": "markdown",
   "id": "f0e79fce-af7e-47e4-8526-ce0160f7e9d9",
   "metadata": {},
   "source": [
    "**Date**: 03/31/2022\n",
    "\n",
    "**Authors**: \n",
    "\n",
    "Xiping Gong (Email: xipinggong@umass.edu)\n",
    "\n",
    "[Jianhan Chen](https://people.chem.umass.edu/jchenlab/) (Email: jianhanc@umass.edu)"
   ]
  },
  {
   "cell_type": "markdown",
   "id": "0f0bdee2-9fc2-4c48-99c7-d55f9e1d1436",
   "metadata": {},
   "source": [
    "# Import packages"
   ]
  },
  {
   "cell_type": "code",
   "execution_count": 1,
   "id": "ba24447e-0258-442e-b6d4-5a6019efc926",
   "metadata": {},
   "outputs": [],
   "source": [
    "# This will import some necessary Python packages (required to run first)\n",
    "# ---------------\n",
    "import numpy as np\n",
    "from matplotlib import pyplot as plt\n",
    "from IPython.core.display import Markdown\n",
    "import mdtraj as md # data analysis\n",
    "import glob"
   ]
  },
  {
   "cell_type": "markdown",
   "id": "3467bb77-af5c-4f6d-ad2b-51cace58aeed",
   "metadata": {},
   "source": [
    "# Introduction"
   ]
  },
  {
   "cell_type": "markdown",
   "id": "3bda9fa7-f3e4-44d5-9180-e4bddbee2d70",
   "metadata": {},
   "source": [
    "The HyRes model is a hybrid resolution coarse-grained model for conformational sampling of disordered proteins ([Liu and Chen, 2017](https://pubs.rsc.org/en/content/articlehtml/2017/cp/c7cp06736d#cit20)). This model was initially designed for the protein simulations, where all 20 natural amino acids have their own representation (Please see Figure 1 in Ref. 1), where the backbone atoms were kept in an atomistic level, while the sidechain atoms were grouped into one or several coarse-grain beans. In this way, the secondary structure information can be visualized in the HyRes model. Additionally, the Debye–Hückel-type electrostatic potential was applied to capature the salt and solvent effects. The additional backbone hydrogen bonding interactions were also used to balance the secondary structure propensities of proteins, especially for the disordered proteins.\n",
    "\n",
    "However, the previous HyRes model only can be executed in the CPU devices and did not make use of the CHARMM GPU capability. Here, the OpenMM-derived GPU-HyRes model was implemented in the CHARMM program, and it was expected that the GPU-HyRes model can gain a significant speedup, especially for larger systems. In this tutorial, we will introduce the metholodogy of HyRes model first, and how the GPU-HyRes was implemented in the CHARMM, and then its implementing correctness and bechmarking were tested. Finally, some common examples was summaried to the users, including how to call the GPU-HyRes calculations, how to calcualte the energies and forces of a given conformation, and how to run the specific simulations, such as NVE and Langevin dynamic simulations.\n",
    "\n",
    "**Reference**\n",
    "\n",
    "[1] Liu and Chen, Phys. Chem. Chem. Phys., 2017, 19, 32421-32432; DOI: 10.1039/C7CP06736D"
   ]
  },
  {
   "cell_type": "markdown",
   "id": "825f0d5d-9499-42a3-98ac-f478249dcdd0",
   "metadata": {},
   "source": [
    "# Methodology"
   ]
  },
  {
   "cell_type": "markdown",
   "id": "6b060d1f-7e6f-4a6e-bd97-56150e035755",
   "metadata": {},
   "source": [
    "## Switching function applied for the cutoff scheme\n",
    "\n",
    "The switching function applied in the cutoff computations is given by,\n",
    "\n",
    "$sw(r, r_{off}, r_{on}) = \n",
    "step(r_{off}-r) + \n",
    "step(r-r_{on}) * [step(r_{off}-r) - step(r_{on}-r)] * \\frac{(r_{off}^2-r^2)^2[(r_{off}^2-r^2) - 3*(r_{on}^2-r^2)]}{(r_{off}^2-r_{on}^2)^3} $, (1)\n",
    "\n",
    "where step is a step function.\n",
    "\n",
    "We did not implement the shift and force shift schemes for HyRes model, so this cutoff scheme is only one option to be used in the CHARMM input file.\n",
    "\n",
    "**Rerference**\n",
    "\n",
    "[1] Steinbach and Brooks, J. Comput. Chem., 1994, 15, 667-683 (DOI: https://doi.org/10.1002/jcc.540150702)"
   ]
  },
  {
   "cell_type": "code",
   "execution_count": 2,
   "id": "3de371aa-afd8-401d-9dca-aeaca417ccf7",
   "metadata": {},
   "outputs": [
    {
     "name": "stdout",
     "output_type": "stream",
     "text": [
      "Switching function:  cutoff =  18.0 cuton =  16.0\n"
     ]
    },
    {
     "data": {
      "image/png": "[encoded data removed]",
      "text/plain": [
       "<Figure size 432x288 with 1 Axes>"
      ]
     },
     "metadata": {
      "needs_background": "light"
     },
     "output_type": "display_data"
    }
   ],
   "source": [
    "# the definition of switching function\n",
    "# ------------------------------------\n",
    "def step(x):\n",
    "    \"\"\"Defining a step function.\"\"\"\n",
    "    return np.where(x<0, 0.0, 1.0)\n",
    "\n",
    "def sw(x, cutoff=18.0, cuton=16.0):\n",
    "    \"\"\"\"Defining a switching function.\"\"\"\n",
    "    \n",
    "    xoff2 = cutoff*cutoff - x*x\n",
    "    xon2 = cuton*cuton - x*x\n",
    "    xoffon2 = cutoff*cutoff - cuton*cuton\n",
    "    result = xoff2*xoff2*(xoff2-3.0*xon2)/xoffon2**3\n",
    "    result = step(cuton-x) + step(x-cuton)*(step(cutoff-x) - step(cuton-x)) * result\n",
    "    return result\n",
    "\n",
    "\n",
    "# plot switch function\n",
    "# --------------------\n",
    "x = np.linspace(14, 20, 50)\n",
    "cutoff = 18.0\n",
    "cuton = 16.0\n",
    "y = np.zeros(x.shape)\n",
    "k = 0\n",
    "for xr in x:\n",
    "    y[k] = sw(xr, cutoff=cutoff, cuton=cuton)\n",
    "    k += 1\n",
    "plt.plot(x, y, 'k-.')\n",
    "plt.xlabel('Distance ($\\AA$)')\n",
    "plt.ylabel('Switching function')\n",
    "print('Switching function: ', 'cutoff = ', cutoff, 'cuton = ', cuton)"
   ]
  },
  {
   "cell_type": "markdown",
   "id": "f9c9af93-d11a-4af2-a913-6af7366b5065",
   "metadata": {},
   "source": [
    "**Figure 1**. The switching function applied in the HyRes model. The cutoff and cuton distances\n",
    "are 18 and 16 Å, respectively."
   ]
  },
  {
   "cell_type": "markdown",
   "id": "08df8f74-6afa-4aee-82e3-fa08c70d7f0f",
   "metadata": {},
   "source": [
    "## Effective potential energy function\n",
    "\n",
    "The HyRes model used both bonded and nonbonded terms, including the bonds, angles, dihedrals, improper dihedrals, backbone $\\phi/\\psi$ torsion cross-term; and the nonbonded terms have Lennard-Jones interactions, hydrogen bonding and electrostatic potentials. To capture some salt and solvent effect, the Debye–Hückel-type electrostatic potential and backbone hydrogen-bond potential are also used,\n",
    "\n",
    "$U = U_{bond} + U_{angle} + U_{dihedral} + U_{improper} + U_{CMAP} + U_{LJ} + U_{hbond} + U_{elec}$. (2)"
   ]
  },
  {
   "cell_type": "markdown",
   "id": "9c1536f2-ed7f-4f66-b344-54797c183c44",
   "metadata": {},
   "source": [
    "## Debye–Hückel-type electrostatic potential\n",
    "\n",
    "Compared to the classical atomistic force field, the HyRes model used the screened Debye–Hückel-type potential as an electrostatic interaction.\n",
    "\n",
    "$U_{elec} = \\sum_{ij}\\frac{q_iq_j}{4\\pi\\epsilon_r\\epsilon_0r_{ij}}e^{-\\frac{r_{ij}}{D}} sw(r_{ij}, r_{off}, r_{on})$, (3)\n",
    "\n",
    "where $q_i$ is the charge of the CG bead i, $r_{ij}$ is the inter-charge distance, and $\\epsilon_0$ is the permittivity\n",
    "of vacuum. $D$ is the Debye screening length. At 300 K, $D$ (in Å) depends on the ionic strength ($I$,\n",
    "in M) according to $\\sqrt{9.48/I}$. The $\\epsilon_r$ is the effective dielectric constant, and a final value, $\\epsilon_r = 20$, was chosen in the HyRes model to capture the solvent effect.\n"
   ]
  },
  {
   "cell_type": "markdown",
   "id": "7bafb143-7d5c-4523-a227-361f334336ab",
   "metadata": {},
   "source": [
    "## Backbone hydrogen-bond potential\n",
    "\n",
    "$U_{Hbond}$ is applied on the peptide backbone N, H and O atoms, and depends on both the N–O\n",
    "distance and O–H–N angle ($r$ and $\\theta_{AHD}$ , respectively). $\\sigma_{AD}$ is set to the ideal hydrogen bond\n",
    "donor–acceptor distance of 2.9 Å and $\\epsilon_{AD}$ is set to 1.50 kcal/mol ([Brooks, Bernard R., et al., J. Comput. Chem., 1983, 4, 187-217](https://onlinelibrary.wiley.com/doi/10.1002/jcc.540040211)).\n",
    "\n",
    "$U_{hbond} = \\sum_{AHD}\\epsilon_{AD}[5(\\frac{\\sigma_{AD}}{r_{AD}})^{12} - 6(\\frac{\\sigma_{AD}}{r_{AD}})^{10}] sw(r_{AD}, r_{off}, r_{on}) * cos^4\\theta_{AHD} * sw(cos\\theta_{AHD},cos\\theta_{off}, cos\\theta_{on})$. (4)"
   ]
  },
  {
   "cell_type": "markdown",
   "id": "0deb8cc9-8caf-4dc9-93d8-d5402335b5c8",
   "metadata": {},
   "source": [
    "# Implementations"
   ]
  },
  {
   "cell_type": "markdown",
   "id": "b1a15d93-a31c-4c68-b57a-1dad4fa6432f",
   "metadata": {},
   "source": [
    "## OpenMM custom forces\n",
    "\n",
    "It is easier to use the OpenMM custom forces to accelerate the calculations of nonbonded potentials. For example, the\n",
    "“CustomNonbondedForce” was used to describe the electrostatic potentials, which defines a\n",
    "universal mathematical expression, $E = f(r)$, where $r$ is the inter-particle distance.\n",
    "\n",
    "Additionally, the OpenMM provides the “CustomHbondForce” to support the hydrogen bonding\n",
    "energy functions between each donor group and each acceptor group, $E = f({r_i}, {\\theta_i}, {\\phi_i})$,\n",
    "where $f(...)$ is a user defined mathematical expression, which depends on an arbitrary set of\n",
    "distance, angles, and dihedral angles."
   ]
  },
  {
   "cell_type": "markdown",
   "id": "1520ed90-6249-4ee4-b9b7-74e284e8b75b",
   "metadata": {},
   "source": [
    "## Implementations\n",
    "\n",
    "Both custom forces have similar procedures. Here, we take the “CustomHbondForce” as an\n",
    "example. We first need to create a CustomHbondForce object, passing an algebraic expression to\n",
    "the constructor that defines the interaction energy between each donor and acceptor, and then\n",
    "add this force object to the OpenMM force object. Then we can set up a cutoff method for the\n",
    "nonbonded calculations and define the parameters. For example, we can define the parameters by\n",
    "calling addGlobalParameter() to define global parameters and addPerDonorParameter() to define\n",
    "per-donor parameters, or addPerAcceptorParameter() to define per-acceptor parameters. Once\n",
    "we defined these parameters, then we need to add all donors and acceptors. For example, we can\n",
    "call addDonor() and addAcceptor() to define donors and acceptors and specify their parameter\n",
    "values. After a donor or acceptor has been added, you can modify its parameters by calling\n",
    "setDonorParameters() or setAcceptorParameters(). These procedures can be found in the\n",
    "[OpenMM documentation](http://docs.openmm.org/latest/api-c++/generated/CustomHbondForce.html)."
   ]
  },
  {
   "cell_type": "markdown",
   "id": "cd0fc8bd-a063-4855-a1da-b52f471ed4ff",
   "metadata": {},
   "source": [
    "## Pseudocode\n",
    "\n",
    "        # Create a hbondforce object\n",
    "        call OpenMM_CustomHbondForce_create (hbondforce, trim(formula))\n",
    "        # Define the method to calculate the nonbonded interactions\n",
    "        call OpenMM_CustomHbondForce_setNonbondedMethod (hbondforce, method)\n",
    "        # Add the hbondforce into the OpenMM force\n",
    "        iparam = OpenMM_System_addForce(system, transfer(hbondforce, OpenMM_Force(0)))\n",
    "        # Add the global parameters\n",
    "        iparam = OpenMM_CustomHbondForce_addGlobalParameter(hbondforce, ‘parameter’)\n",
    "        # Add the acceptors or donors and their parameters\n",
    "        iparam = OpenMM_CustomHbondForce_addPerDonorParameter(hbondforce, ‘parameter’)\n",
    "        Do inx = 1, NDON # loop all donors\n",
    "           iparam = OpenMM_CustomHbondForce_addDonor(hbondforce, inx1, inx2, inx3, params)\n",
    "        EndDo\n",
    "        iparam = OpenMM_CustomHbondForce_addPerAcceptorParameter(hbondforce, ‘parameter’)\n",
    "        Do inx = 1, NDON # loop all donors\n",
    "           iparam = OpenMM_CustomHbondForce_addAcceptor(hbondforce, inx1, inx2, inx3, params)\n",
    "        EndDo\n",
    "        ...\n",
    "        # energy expression\n",
    "        write(formula, '(15a)') &\n",
    "            'epsilon*(5.0*(sigma/r)^12-6.0*(sigma/r)^10)*swrad*cosd^4*swang; ', &\n",
    "            'swrad = step(rcuton-r)+step(r-rcuton)*(step(rcutoff-r)-step(rcuton-r))*', &\n",
    "            'roff2*roff2*(roff2-3.0*ron2)/roffon2^3; ', &\n",
    "            'roff2 = rcutoff*rcutoff-r*r; ', &\n",
    "            'ron2 = rcuton*rcuton-r*r; ', &\n",
    "            'roffon2 = rcutoff*rcutoff-rcuton*rcuton; ', &\n",
    "            'rcutoff = CTOFHB; rcuton = CTONHB; r = distance(d1,a1); ', &\n",
    "            'swang = step(cosdcuton-cosd)+step(cosd-cosdcuton)*(step(cosdcutoff-cosd)-step(cosdcuton-cosd))*', &\n",
    "            'cosdoff2*cosdoff2*(cosdoff2-3.0*cosdon2)/cosdoffon2^3; ', &\n",
    "            'cosdoff2 = cosdcutoff*cosdcutoff-cosd*cosd; ', &\n",
    "            'cosdon2 = cosdcuton*cosdcuton-cosd*cosd; ', &\n",
    "            'cosdoffon2 = cosdcutoff*cosdcutoff-cosdcuton*cosdcuton; ', &\n",
    "            'cosdcutoff = -cos(CTOFHA); cosdcuton = -cos(CTONHA); cosd = cos(angle(d1,d2,a1)); ', &\n",
    "            'sigma = 0.5*(sigmaD+sigmaA); ', &\n",
    "            'epsilon = sqrt(epsilonD*epsilonA);'\n",
    "        ...\n",
    "        # The detailed implementation can be found in the CHARMM source code by calling the following command,\n",
    "        grep -r '! AN EXAMPLE OF OPENMM CUSTOMFORCE' ~/charmm/source/*"
   ]
  },
  {
   "cell_type": "markdown",
   "id": "cf78371c-0dc4-45aa-8017-08d071403a85",
   "metadata": {},
   "source": [
    "# Correctness\n",
    "\n",
    "To confirm the correctness of implementations, we took the full length of p53 protein as a test\n",
    "model, to see whether the GPU calculations can reproduce the CPU calculations. First, the\n",
    "atomistic forces were calculated from the CPU and CUDA calculations. Then, the NVE and Langevin dynamic\n",
    "simulations were also used to confirm the correctness of protein dynamics.\n",
    "\n",
    "    ! DH electrostatic potential\n",
    "    nbond inbfrq -1\n",
    "    NBOND atom switch cdie vdw vswitch -\n",
    "          cutnb 20.0 ctofnb 18.0 ctonnb 16.0 -\n",
    "          eps 20 ionc 0.15\n",
    "    \n",
    "    ! HB potential\n",
    "    HBOND NOACCEPTORS  HBNOEXCLUSIONS  ALL  -\n",
    "       CUTHB 6.0 CTOFHB 5.0 CTONHB 4.0  CUTHA 100.0  CTOFHA 70.0  CTONHA 50.0"
   ]
  },
  {
   "cell_type": "markdown",
   "id": "992c7710-488d-4f03-8c51-9230fb0e77ff",
   "metadata": {},
   "source": [
    "## CPU vs. GPU forces"
   ]
  },
  {
   "cell_type": "code",
   "execution_count": 3,
   "id": "a5b0ee80-aa12-4a99-b93e-fb6d7c92a2fa",
   "metadata": {},
   "outputs": [
    {
     "name": "stdout",
     "output_type": "stream",
     "text": [
      "/home/ping/tutorial/hyres\n"
     ]
    },
    {
     "data": {
      "text/plain": [
       "<matplotlib.legend.Legend at 0x7fdafd43c640>"
      ]
     },
     "execution_count": 3,
     "metadata": {},
     "output_type": "execute_result"
    },
    {
     "data": {
      "image/png": "[encoded data removed]",
      "text/plain": [
       "<Figure size 432x288 with 1 Axes>"
      ]
     },
     "metadata": {
      "needs_background": "light"
     },
     "output_type": "display_data"
    }
   ],
   "source": [
    "# CPU vs. GPU forces\n",
    "# ------------------\n",
    "%cd '/home/ping/tutorial/hyres/'\n",
    "cpuforces = np.loadtxt('forces.cpu.dat')\n",
    "gpuforces = np.loadtxt('forces.gpu.dat') # CUDA-mixed\n",
    "\n",
    "inx = cpuforces[:,0]\n",
    "diff = np.sqrt(np.sum((cpuforces[:,1:4]-gpuforces[:,1:4])**2, axis=1))\n",
    "plt.plot(inx, diff,label='Atomic forces')\n",
    "plt.xlabel('Atomic indices')\n",
    "plt.ylabel('Absolute difference $|F_{CPU} - F_{GPU}|$')\n",
    "plt.title('p53 protein (#290 residues)')\n",
    "plt.legend()"
   ]
  },
  {
   "cell_type": "markdown",
   "id": "2ba5c154-d506-472a-af7f-7553c4980bd1",
   "metadata": {},
   "source": [
    "**Figure 2**. The correctness of HyRes OpenMM implementations by confirming the protein forces.\n",
    "The expected absolute difference should be closer to zero for all atomic indices."
   ]
  },
  {
   "cell_type": "markdown",
   "id": "eba26204-931a-4163-a615-d0a24b62fbd5",
   "metadata": {},
   "source": [
    "## Energy conservation (NVE)"
   ]
  },
  {
   "cell_type": "code",
   "execution_count": 4,
   "id": "a16e406d-7e09-4f10-bf58-501bbc815b33",
   "metadata": {},
   "outputs": [
    {
     "name": "stdout",
     "output_type": "stream",
     "text": [
      "/home/ping/tutorial/hyres\n"
     ]
    },
    {
     "data": {
      "text/plain": [
       "<matplotlib.legend.Legend at 0x7fdafd4620d0>"
      ]
     },
     "execution_count": 4,
     "metadata": {},
     "output_type": "execute_result"
    },
    {
     "data": {
      "image/png": "[encoded data removed]",
      "text/plain": [
       "<Figure size 432x288 with 1 Axes>"
      ]
     },
     "metadata": {
      "needs_background": "light"
     },
     "output_type": "display_data"
    }
   ],
   "source": [
    "# NVE simulations\n",
    "# ---------------\n",
    "# timestep 0.002\n",
    "%cd '/home/ping/tutorial/hyres'\n",
    "start = 0\n",
    "fmt = '{0:.2f}'\n",
    "nve1gpu = np.loadtxt('nve.1gpu.dat')\n",
    "k1 = np.polyfit(nve1gpu[start:,0], nve1gpu[start:,1], 1)\n",
    "nve1cpu = np.loadtxt('nve.1cpu.dat')\n",
    "k2 = np.polyfit(nve1cpu[start:,0], nve1cpu[start:,1], 1)\n",
    "nve8cpu = np.loadtxt('nve.8cpu.dat')\n",
    "k3 = np.polyfit(nve8cpu[start:,0], nve8cpu[start:,1], 1)\n",
    "\n",
    "plt.plot(nve1gpu[start:,0], nve1gpu[start:,1]-nve1gpu[start,1],label='1-GPU-mixed, k = '+fmt.format(k1[0]*1000)+' kcal/mol per ns')\n",
    "plt.plot(nve1cpu[start:,0], nve1cpu[start:,1]-nve1cpu[start,1],label='1-CPU, k = '+fmt.format(k2[0]*1000)+' kcal/mol per ns')\n",
    "plt.plot(nve8cpu[start:,0], nve8cpu[start:,1]-nve8cpu[start,1],label='8-CPU, k = '+fmt.format(k3[0]*1000)+' kcal/mol per ns')\n",
    "plt.xlabel('Time (ps)')\n",
    "plt.ylabel('Relative energies (kcal/mol)')\n",
    "plt.title('NVE simulations of p53 protein (#290 residues)')\n",
    "plt.ylim([-0.2,0.08])\n",
    "plt.legend()"
   ]
  },
  {
   "cell_type": "markdown",
   "id": "aa863b4d-2dfe-4a36-8be8-003d797776a3",
   "metadata": {},
   "source": [
    "**Figure 3**. NVE simulations of CPU and GPU calculations. The time step was set to 2 fs for the NVE simulations and the mixed precision was used in the GPU calculations.\n",
    "\n",
    "According to the NVE simulations, the CPU and GPU calculations are almost energy-conserved.\n",
    "We also investigated the effects of computational precisions on the energy\n",
    "conservation by using three options (single, mixed, and double). We observed that the mixed and\n",
    "double schemes performed pretty similarly, and single scheme was a little worsen.\n",
    "After comparing with the computational efficiency, we strongly suggested using the mixed precision for all GPU calculations."
   ]
  },
  {
   "cell_type": "markdown",
   "id": "a1006b70-f0b8-4927-91ab-f25a81ad7a87",
   "metadata": {},
   "source": [
    "## Langevin dynamics"
   ]
  },
  {
   "cell_type": "markdown",
   "id": "14f69c05-1b12-4982-9908-bae0369cf6c6",
   "metadata": {},
   "source": [
    "\n",
    "```\n",
    "# Langevin dynamics (extracting data)\n",
    "# -----------------------------------\n",
    "wdir = '/home/ping/tutorial/hyres'\n",
    "%cd $wdir\n",
    "\n",
    "# run Langevin dynamic simulations to obtain these trajectories first.\n",
    "namearr = ['kid1.1cpu.[1-2].dcd', 'kid2.1cpu.[1-2].dcd',\n",
    "          'kid1.8cpu.[1-2].dcd', 'kid2.8cpu.[1-2].dcd',\n",
    "          'kid1.1gpu.[1-2].dcd', 'kid2.1gpu.[1-2].dcd',]\n",
    "\n",
    "for name in namearr:\n",
    "    print('\\n')\n",
    "    # native pdb and trajectories\n",
    "    print('Extracting the native pdb and trajectory files >>')\n",
    "    trajfiles = glob.glob(name) # each is 100 ns\n",
    "    trajfiles = sorted(trajfiles)\n",
    "    for k in range(0,len(trajfiles)):\n",
    "        print('file '+str(k)+' > ', trajfiles[k])\n",
    "    traj = md.load(trajfiles, top=name[0:4]+'.pdb')\n",
    "    print('traj = ', traj)\n",
    "    \n",
    "    # calculating property: Helicity of each residue by a block averaging\n",
    "    dssp = md.compute_dssp(traj) # it costs a lot\n",
    "    dssp = np.where(dssp=='H', 1, 0)\n",
    "    arr = dssp.T\n",
    "    nblocks = 10\n",
    "    lenBlock = int(arr.shape[-1] / nblocks)\n",
    "    avg = np.average(np.reshape(arr[:,0:nblocks*lenBlock], (-1, nblocks, lenBlock)), axis=-1)\n",
    "    sem = np.std(avg, ddof=1, axis=-1) / np.sqrt(nblocks) # standard error (SEM)\n",
    "    avg = np.average(avg, axis=-1) # average (AVG)\n",
    "    \n",
    "    # save\n",
    "    savepath = wdir+name[0:9]+'.helix'\n",
    "    header = 'Helicity of KID; HyRes;'\n",
    "    qdat = np.array([np.arange(0,len(avg)), avg, sem]).T\n",
    "    np.savetxt(savepath, qdat, header=header, fmt='%10.5f')\n",
    "    print('Saving AVG and SEM into '+ savepath)\n",
    "```"
   ]
  },
  {
   "cell_type": "code",
   "execution_count": 5,
   "id": "ae79145b-efe8-4283-977f-af439e63503e",
   "metadata": {},
   "outputs": [
    {
     "name": "stdout",
     "output_type": "stream",
     "text": [
      "/home/ping/tutorial/hyres\n"
     ]
    },
    {
     "data": {
      "text/plain": [
       "Text(0.5, 1.0, 'KID')"
      ]
     },
     "execution_count": 5,
     "metadata": {},
     "output_type": "execute_result"
    },
    {
     "data": {
      "image/png": "[encoded data removed]",
      "text/plain": [
       "<Figure size 432x288 with 1 Axes>"
      ]
     },
     "metadata": {
      "needs_background": "light"
     },
     "output_type": "display_data"
    }
   ],
   "source": [
    "# Langevin dynamics (plotting)\n",
    "# ----------------------------\n",
    "%cd '/home/ping/tutorial/hyres'\n",
    "\n",
    "# GPU (cons harm)\n",
    "arr = np.loadtxt('kid1.1gpu.helix')\n",
    "plt.errorbar(arr[:,0], arr[:,1], yerr=arr[:,2],\n",
    "    capsize=5, fmt='k-', label='kid1.1gpu', ds='steps-mid')\n",
    "arr = np.loadtxt('kid2.1gpu.helix')\n",
    "plt.errorbar(arr[:,0], arr[:,1], yerr=arr[:,2],\n",
    "    capsize=5, fmt='k--', label='kid2.1gpu', ds='steps-mid')\n",
    "\n",
    "# 1-CPU\n",
    "arr = np.loadtxt('kid1.1cpu.helix')\n",
    "plt.errorbar(arr[:,0], arr[:,1], yerr=arr[:,2],\n",
    "    capsize=5, fmt='b-', label='kid1.1cpu', ds='steps-mid')\n",
    "arr = np.loadtxt('kid2.1cpu.helix')\n",
    "plt.errorbar(arr[:,0], arr[:,1], yerr=arr[:,2],\n",
    "    capsize=5, fmt='b--', label='kid2.1cpu', ds='steps-mid')\n",
    "\n",
    "# 8-CPU\n",
    "arr = np.loadtxt('kid1.8cpu.helix')\n",
    "plt.errorbar(arr[:,0], arr[:,1], yerr=arr[:,2],\n",
    "    capsize=5, fmt='r-', label='kid1.8cpu', ds='steps-mid')\n",
    "arr = np.loadtxt('kid2.8cpu.helix')\n",
    "plt.errorbar(arr[:,0], arr[:,1], yerr=arr[:,2],\n",
    "    capsize=5, fmt='r--', label='kid2.8cpu', ds='steps-mid')\n",
    "\n",
    "plt.legend() #loc='center left', bbox_to_anchor=(1, 0.5))\n",
    "plt.xlabel('Residues')\n",
    "plt.ylabel('Populations')\n",
    "plt.title('KID')"
   ]
  },
  {
   "cell_type": "markdown",
   "id": "4670123e-f073-460f-b39c-012054e8709e",
   "metadata": {},
   "source": [
    "**Figure 4**. The Langevin dynamics of KID proteins for 1-, 8-CPU and 1-GPU calculations. The\n",
    "“kid1” and “kid2” simulations used the unfolded and folded initial structures, respectively.\n",
    "\n",
    "I also tested the Langevin dynamics of KID protein for 1-, 8-CPU and 1-GPU calculations.\n",
    "It was expected that their calculations should give the similar helicity distribution of\n",
    "KID residues, and these results between CPU and GPU are pretty close. It suggested that the GPU dynamics can\n",
    "reproduce the CPU dynamics."
   ]
  },
  {
   "cell_type": "markdown",
   "id": "9f2e5860-4a1e-4895-b79b-a0b524fc9373",
   "metadata": {},
   "source": [
    "# Benchmarking"
   ]
  },
  {
   "cell_type": "markdown",
   "id": "01deb4ed-9b23-48c7-8adc-39d6c6c186a6",
   "metadata": {},
   "source": [
    "## Performance"
   ]
  },
  {
   "cell_type": "code",
   "execution_count": 6,
   "id": "4d06065f-18df-48eb-8ff7-a7cb43a1a33c",
   "metadata": {},
   "outputs": [
    {
     "data": {
      "text/markdown": [
       "\n",
       "**Table 1**. The performance of CPU- and GPU-HyRes models (1 ns NVT langevin dynamics).\n",
       "The CPU name is \"Intel(R) Xeon(R) Silver 4110 CPU @2.10GHz\" and CUDA device name is \"GeForce RTX 2080\".\n",
       "\n",
       "| Devices | KID (#26) | p53-TAD (#61) | Full p53 (#290) |\n",
       "| :--- | --- | --- | --- |\n",
       "| CPU-1 | 1.00 | 1.00 | 1.00 |\n",
       "| CPU-2 | 1.74 | 1.78 | 1.91 |\n",
       "| CPU-4 | 2.69 | 3.11 | 3.51 |\n",
       "| CPU-8 | 3.42 | 4.61 | 6.09 |\n",
       "| CPU-16 | 3.65 | 5.67 | 8.95 |\n",
       "| GPU-1 (HyRes) | 5.82 | 13.26 | 76.33 |\n",
       "| GPU-1 (no-HB) | 8.54 | 22.85 | 171.52 |\n"
      ],
      "text/plain": [
       "<IPython.core.display.Markdown object>"
      ]
     },
     "metadata": {},
     "output_type": "display_data"
    },
    {
     "data": {
      "text/plain": [
       "Text(0.5, 1.0, 'GPU-HyRes')"
      ]
     },
     "execution_count": 6,
     "metadata": {},
     "output_type": "execute_result"
    },
    {
     "data": {
      "image/png": "[encoded data removed]",
      "text/plain": [
       "<Figure size 432x288 with 1 Axes>"
      ]
     },
     "metadata": {
      "needs_background": "light"
     },
     "output_type": "display_data"
    }
   ],
   "source": [
    "table1 = Markdown('''\n",
    "**Table 1**. The performance of CPU- and GPU-HyRes models (1 ns NVT langevin dynamics).\n",
    "The CPU name is \"Intel(R) Xeon(R) Silver 4110 CPU @2.10GHz\" and CUDA device name is \"GeForce RTX 2080\".\n",
    "\n",
    "| Devices | KID (#26) | p53-TAD (#61) | Full p53 (#290) |\n",
    "| :--- | --- | --- | --- |\n",
    "| CPU-1 | 1.00 | 1.00 | 1.00 |\n",
    "| CPU-2 | 1.74 | 1.78 | 1.91 |\n",
    "| CPU-4 | 2.69 | 3.11 | 3.51 |\n",
    "| CPU-8 | 3.42 | 4.61 | 6.09 |\n",
    "| CPU-16 | 3.65 | 5.67 | 8.95 |\n",
    "| GPU-1 (HyRes) | 5.82 | 13.26 | 76.33 |\n",
    "| GPU-1 (no-HB) | 8.54 | 22.85 | 171.52 |\n",
    "''')\n",
    "display(table1)\n",
    "\n",
    "plt.plot([26, 61, 290], [5.82, 13.26, 76.33], 'k-o')\n",
    "plt.xlabel('# Residue')\n",
    "plt.ylabel('Speedup')\n",
    "plt.title('GPU-HyRes')"
   ]
  },
  {
   "cell_type": "markdown",
   "id": "1652c6f3-a8a7-476e-bb37-4bf189554103",
   "metadata": {},
   "source": [
    "**Figure 5**. The speedup of GPU-HyRes model with the increase of systems size (# residue).\n",
    "\n",
    "We also tested the effect of system size on the performance of HyRes model (Table 1). It can be\n",
    "seen that the GPU performance becomes faster in the larger systems, and ~76x speedup can be observed in the full length of p53 protein. \n",
    "This is because that the speedup of GPU-HyRes calculations scales with the system size.\n",
    "\n",
    "It also showed the comparisons with the GPU calculations without HB terms, we see\n",
    "that the calculation of HB term is the dominating part in the GPU-HyRes model, which almost\n",
    "takes up >50 % partitions. The “nvprof” tool was also used to qualify the performance of GPU-\n",
    "HyRes model. we found that two HB GPU kernels took the major contribution to the\n",
    "calculation, including the “computeDonorForces” and “computeAcceptorForces”, which are\n",
    "much greater than the partition of “computeNonbonded” part."
   ]
  },
  {
   "cell_type": "markdown",
   "id": "aad48543-2f22-4efc-9824-8894e0a4fe01",
   "metadata": {},
   "source": [
    "## Profiling with nvprof"
   ]
  },
  {
   "cell_type": "markdown",
   "id": "292aa10d-32e5-413d-abf6-f37b9447e3ff",
   "metadata": {},
   "source": [
    "```\n",
    "# nvprof /home/ping/programs/charmm/build/hyres/charmm openmm=1 -i nve.inp # HyRes\n",
    "# -----------------------\n",
    "==16272== Profiling application: /home/ping/programs/charmm/build/hyres/charmm openmm=1 -i nve.inp\n",
    "==16272== Profiling result:\n",
    "            Type  Time(%)      Time     Calls       Avg       Min       Max  Name\n",
    " GPU activities:   37.31%  7.11465s    100503  70.790us  67.776us  289.96us  computeDonorForces\n",
    "                   28.99%  5.52671s    100503  54.990us  53.153us  64.961us  computeAcceptorForces\n",
    "                   18.26%  3.48077s    100503  34.633us  29.472us  46.753us  computeNonbonded\n",
    "                    6.72%  1.28036s    101115  12.662us  1.6000us  18.752us  computeBondedForces\n",
    "                    2.68%  510.67ms    100503  5.0810us  4.1920us  12.641us  findBlockBounds\n",
    "                    1.17%  223.30ms    100503  2.2210us  2.0480us  12.064us  sortShortList2\n",
    "                    1.08%  206.36ms    100100  2.0610us  1.9840us  11.233us  integrateVerletPart2\n",
    "                    0.95%  180.36ms    100100  1.8010us  1.7280us  11.840us  integrateVerletPart1\n",
    "                    0.69%  131.23ms    100503  1.3050us  1.2480us  11.616us  sortBoxData\n",
    "                    0.57%  107.75ms    101217  1.0640us     832ns  13.056us  clearTwoBuffers\n",
    "                    0.53%  101.87ms    100503  1.0130us     832ns  423.62us  findBlocksWithInteractions\n",
    "                    0.51%  96.648ms    102537     942ns     768ns  12.192us  [CUDA memcpy DtoD]\n",
    "                    0.46%  88.106ms    105141     837ns     288ns  16.864us  [CUDA memcpy DtoH]\n",
    "                    0.05%  8.6726ms      1017  8.5270us  8.3840us  10.016us  reduceEnergy\n",
    "                    0.04%  7.9949ms      2279  3.5080us     608ns  19.360us  [CUDA memcpy HtoD]\n",
    "                    0.01%  1.4412ms      1017  1.4170us  1.2800us  12.192us  timeShiftVelocities\n",
    "      API calls:   58.33%  12.3482s    100503  122.86us  1.4450us  672.01us  cuEventSynchronize\n",
    "                   28.90%  6.11777s   1108087  5.5210us  3.9490us  1.8919ms  cuLaunchKernel\n",
    "                    4.67%  988.52ms    102537  9.6400us  7.5140us  3.1371ms  cuMemcpyDtoDAsync\n",
    "                    2.47%  523.28ms         2  261.64ms  245.90ms  277.39ms  cuCtxCreate\n",
    "                    2.42%  512.58ms    100703  5.0890us  3.9930us  451.80us  cuMemcpyDtoHAsync\n",
    "                    1.51%  320.30ms      4438  72.173us  16.880us  597.66us  cuMemcpyDtoH\n",
    "                    0.80%  168.81ms    100503  1.6790us  1.2890us  718.30us  cuEventRecord\n",
    "                    0.55%  115.44ms      2279  50.654us  4.9520us  57.480ms  cuMemcpyHtoD\n",
    "                    0.25%  52.261ms    202596     257ns     161ns  458.99us  cuCtxSetCurrent\n",
    "                    0.05%  11.338ms        17  666.94us  364.53us  1.6778ms  cuModuleLoad\n",
    "                    0.02%  4.0982ms         4  1.0246ms  990.33us  1.0547ms  cuMemHostAlloc\n",
    "                    0.01%  2.9158ms       124  23.514us  4.3260us  193.07us  cuMemAlloc\n",
    "                    0.00%  871.97us         2  435.99us  407.52us  464.46us  cuMemFreeHost\n",
    "                    0.00%  768.06us         4  192.01us     424ns  766.48us  cuDriverGetVersion\n",
    "                    0.00%  424.52us        54  7.8610us  4.4610us  111.72us  cuMemFree\n",
    "                    0.00%  92.859us         2  46.429us  45.992us  46.867us  cuDeviceGetName\n",
    "                    0.00%  39.437us        75     525ns     242ns  2.9010us  cuModuleGetFunction\n",
    "                    0.00%  10.633us         4  2.6580us  1.2760us  5.8650us  cuEventCreate\n",
    "                    0.00%  7.7380us         1  7.7380us  7.7380us  7.7380us  cuDeviceGetPCIBusId\n",
    "                    0.00%  6.1270us        11     557ns     182ns     833ns  cuDeviceGetAttribute\n",
    "                    0.00%  5.4640us         2  2.7320us  1.0170us  4.4470us  cuCtxSetLimit\n",
    "                    0.00%  5.1000us         1  5.1000us  5.1000us  5.1000us  cuEventDestroy\n",
    "                    0.00%  4.5500us         4  1.1370us     409ns  1.6410us  cuDeviceGetCount\n",
    "                    0.00%  3.1030us         3  1.0340us     532ns  1.6610us  cuDeviceGet\n",
    "                    0.00%  2.1340us         2  1.0670us  1.0650us  1.0690us  cuCtxGetLimit\n",
    "                    0.00%  1.9760us         2     988ns     903ns  1.0730us  cuCtxSetCacheConfig\n",
    "                    0.00%  1.9280us         2     964ns     882ns  1.0460us  cuDeviceComputeCapability\n",
    "```"
   ]
  },
  {
   "cell_type": "markdown",
   "id": "b2956187-c635-40e1-9b53-e2f60d58c5ad",
   "metadata": {},
   "source": [
    "# Examples using the CHARMM program\n",
    "\n",
    "Here, we provided the input files used to generate the above data.\n"
   ]
  },
  {
   "cell_type": "code",
   "execution_count": 7,
   "id": "e2114945-cc0e-498b-b361-2bfeca92a0a9",
   "metadata": {},
   "outputs": [
    {
     "name": "stdout",
     "output_type": "stream",
     "text": [
      "/home/ping/tutorial/hyres\n",
      "\n",
      " # The following are the topology and parameter files and the CHARMM input files >> \n",
      "-rw-r----- 1 ping jianhanc   981 Mar 31 14:30 ener.inp\n",
      "-rw-r--r-- 1 ping jianhanc 35710 Mar 31 14:30 hb2.0.inp\n",
      "-rw-r--r-- 1 ping jianhanc  2116 Mar 31 14:30 langevin.inp\n",
      "-rw-r----- 1 ping jianhanc  1134 Mar 31 14:30 nve.inp\n",
      "-rw-r----- 1 ping jianhanc 36567 Mar 31 14:30 param_idpcg.inp\n",
      "-rw-r----- 1 ping jianhanc 19681 Mar 31 14:30 top_idpcg.inp\n",
      "-rw-r--r-- 1 ping jianhanc 19726 Mar 31 14:30 top-idpcg-sasa.inp\n",
      "\n",
      " # The data files generated\n",
      "-rw-r--r-- 1 ping jianhanc 53010 Mar 31 14:30 forces.cpu.dat\n",
      "-rw-r--r-- 1 ping jianhanc 53011 Mar 31 14:30 forces.gpu.dat\n",
      "-rw-r--r-- 1 ping jianhanc  1763 Mar 31 14:30 nve.1cpu.dat\n",
      "-rw-r--r-- 1 ping jianhanc  1763 Mar 31 14:30 nve.1gpu.dat\n",
      "-rw-r--r-- 1 ping jianhanc  1763 Mar 31 14:30 nve.8cpu.dat\n",
      "\n",
      " # The calculated helicity of KID residues\n",
      "-rw-r--r-- 1 ping jianhanc 1016 Mar 31 14:31 kid1.1cpu.helix\n",
      "-rw-r--r-- 1 ping jianhanc 1016 Mar 31 14:31 kid1.1gpu.helix\n",
      "-rw-r--r-- 1 ping jianhanc 1016 Mar 31 14:31 kid1.8cpu.helix\n",
      "-rw-r--r-- 1 ping jianhanc 1016 Mar 31 14:31 kid2.1cpu.helix\n",
      "-rw-r--r-- 1 ping jianhanc 1016 Mar 31 14:31 kid2.1gpu.helix\n",
      "-rw-r--r-- 1 ping jianhanc 1016 Mar 31 14:31 kid2.8cpu.helix\n"
     ]
    }
   ],
   "source": [
    "%cd '/home/ping/tutorial/hyres'\n",
    "\n",
    "print('\\n # The following are the topology and parameter files and the CHARMM input files >> ')\n",
    "%ls -all *.inp\n",
    "print('\\n # The data files generated')\n",
    "%ls -all *.dat\n",
    "print('\\n # The calculated helicity of KID residues')\n",
    "%ls -all *.helix"
   ]
  },
  {
   "cell_type": "markdown",
   "id": "87a0f916-ffc2-4da9-be8c-23e5a616091d",
   "metadata": {},
   "source": [
    "## Energies and forces"
   ]
  },
  {
   "cell_type": "markdown",
   "id": "f5be5a73-fa04-443d-98e5-52e851e5ab94",
   "metadata": {},
   "source": [
    "The CHARMM input file is \"**ener.inp**\" showed as below,\n",
    "\n",
    "```\n",
    "if @?pdbid eq 0     set pdbid = fp53\n",
    "\n",
    "read  rtf card name top_idpcg.inp\n",
    "read para card name param_idpcg.inp\n",
    "\n",
    "read psf card name @pdbid.psf\n",
    "read coor pdb name @pdbid.pdb\n",
    "\n",
    "! DH electrostatoc potential\n",
    "! --------------------------\n",
    "nbond inbfrq -1\n",
    "NBOND atom switch cdie vdw vswitch -\n",
    "      cutnb 20.0 ctofnb 18.0 ctonnb 16.0 -\n",
    "      eps 20 ionc 0.15\n",
    "\n",
    "! Harmonic restrict\n",
    "! -----------------\n",
    "cons harm clear\n",
    "cons harm force 1.0 sele resid 2 .and. type CA end\n",
    "\n",
    "! Hydrogen-bonding potential\n",
    "! --------------------------\n",
    "hbond ihbfrq -1\n",
    "HBOND NOACCEPTORS  HBNOEXCLUSIONS  ALL  -\n",
    "   CUTHB 6.0 CTOFHB 5.0 CTONHB 4.0  CUTHA 100.0  CTOFHA 70.0  CTONHA 50.0\n",
    "\n",
    "! energy and forces\n",
    "! ---------------------\n",
    "set natom = ?natom\n",
    "! 1) CPU\n",
    "energy \n",
    "! or omm platform CPU precision mixed deviceid 0\n",
    "! omm on\n",
    "! energy\n",
    "coor force comp\n",
    "print coor comp sele bynu 1:@natom end\n",
    "! 2) CUDA\n",
    "omm platform CUDA precision mixed deviceid 0\n",
    "omm on\n",
    "energy\n",
    "coor force comp\n",
    "print coor comp sele bynu 1:@natom end\n",
    "\n",
    "stop\n",
    "```\n",
    "\n",
    "Execute the following commands in a bash environment,\n",
    "\n",
    "```\n",
    "$CHARMM -i ener.inp > ener.out   # charmm is an executable program\n",
    "grep ' P53  ' ener.out | awk '{print $1, $5, $6, $7}' | head -1775 > forces.cpu.dat # natom = 1775\n",
    "grep ' P53  ' ener.out | awk '{print $1, $5, $6, $7}' | tail -1775 > forces.gpu.dat\n",
    "\n",
    "output>>\n",
    "1) energies by checking out the ener.out file\n",
    "==> cpu <==\n",
    "ENER ENR:  Eval#     ENERgy      Delta-E         GRMS\n",
    "ENER INTERN:          BONDs       ANGLes       UREY-b    DIHEdrals    IMPRopers\n",
    "ENER CROSS:           CMAPs        PMF1D        PMF2D        PRIMO\n",
    "ENER EXTERN:        VDWaals         ELEC       HBONds          ASP         USER\n",
    " ----------       ---------    ---------    ---------    ---------    ---------\n",
    "ENER>        0      2.81856      0.00000      0.39962\n",
    "ENER INTERN>       48.28796    365.66936      0.00000    148.38173    120.04808\n",
    "ENER CROSS>       -15.72816      0.00000      0.00000      0.00000\n",
    "ENER EXTERN>     -542.03040    -20.40126   -101.40874      0.00000      0.00000\n",
    " ----------       ---------    ---------    ---------    ---------    ---------\n",
    "==> gpu <==\n",
    "ENER ENR:  Eval#     ENERgy      Delta-E         GRMS\n",
    "ENER INTERN:          BONDs       ANGLes       UREY-b    DIHEdrals    IMPRopers\n",
    "ENER CROSS:           CMAPs        PMF1D        PMF2D        PRIMO\n",
    "ENER EXTERN:        VDWaals         ELEC       HBONds          ASP         USER\n",
    " ----------       ---------    ---------    ---------    ---------    ---------\n",
    "ENER>        0      2.81864     -0.00008      0.39965\n",
    "ENER INTERN>       48.28790    365.66973      0.00000    148.38178    120.04793\n",
    "ENER CROSS>       -15.72816      0.00000      0.00000      0.00000\n",
    "ENER EXTERN>     -562.43186      0.00000   -101.40870      0.00000      0.00000\n",
    " ----------       ---------    ---------    ---------    ---------    ---------\n",
    "\n",
    "2) forces by running \"head forces.*.dat\"\n",
    "==> forces.cpu.dat <==\n",
    "1 0.02244 -0.04498 0.08463\n",
    "2 0.00739 -0.00605 0.03998\n",
    "3 -0.49249 0.21771 -0.26256\n",
    "4 -0.00583 -0.01102 -0.01446\n",
    "5 0.88928 0.24799 -0.01162\n",
    "6 -0.45220 -0.28220 0.14164\n",
    "7 0.89713 -0.59491 0.25717\n",
    "8 -0.96810 0.21113 -0.18011\n",
    "9 0.10736 0.42737 0.14898\n",
    "10 0.00818 -0.07654 0.22554\n",
    "\n",
    "==> forces.gpu.dat <==\n",
    "1 0.02010 -0.04612 0.08278\n",
    "2 0.00881 -0.00535 0.03896\n",
    "3 -0.49517 0.21991 -0.26026\n",
    "4 -0.00539 -0.01192 -0.01481\n",
    "5 0.89434 0.24586 -0.00883\n",
    "6 -0.45259 -0.28168 0.14091\n",
    "7 0.89068 -0.59616 0.25633\n",
    "8 -0.96629 0.21089 -0.17960\n",
    "9 0.11157 0.42956 0.14659\n",
    "10 0.00753 -0.07655 0.22543\n",
    "\n",
    "```"
   ]
  },
  {
   "cell_type": "markdown",
   "id": "96923a9c-3348-48db-a345-e425c646e381",
   "metadata": {},
   "source": [
    "## NVE simulation"
   ]
  },
  {
   "cell_type": "markdown",
   "id": "d636d3be-b887-4af0-93ff-d6709eb95a75",
   "metadata": {},
   "source": [
    "The CHARMM input file is \"**nve.inp**\" showed as below,\n",
    "```\n",
    "if @?pdbid eq 0     set pdbid = fp53\n",
    "if @?openmm eq 0    set openmm = 0\n",
    "\n",
    "read  rtf card name top_idpcg.inp\n",
    "read para card name param_idpcg.inp\n",
    "\n",
    "read psf card name @pdbid.psf\n",
    "read coor pdb name @pdbid.pdb\n",
    "\n",
    "! DH electrostatoc potential\n",
    "! --------------------------\n",
    "nbond inbfrq -1\n",
    "NBOND atom switch cdie vdw vswitch -\n",
    "      cutnb 20.0 ctofnb 18.0 ctonnb 16.0 -\n",
    "      eps 20 ionc 0.15\n",
    "\n",
    "! Harmonic restrict\n",
    "! -----------------\n",
    "cons harm clear\n",
    "cons harm force 1.0 sele resid 2 .and. type CA end\n",
    "\n",
    "! Hydrogen-bonding potential\n",
    "! --------------------------\n",
    "hbond ihbfrq -1\n",
    "HBOND NOACCEPTORS  HBNOEXCLUSIONS  ALL  -\n",
    "   CUTHB 6.0 CTOFHB 5.0 CTONHB 4.0  CUTHA 100.0  CTOFHA 70.0  CTONHA 50.0\n",
    "\n",
    "! NVE simulation\n",
    "!-------------------------------------------------------\n",
    "set nstep = 100000\n",
    "! 1) CPU\n",
    "if openmm eq 0 then\n",
    "   energy\n",
    "   dynamics leap start timestep 0.002 nstep @nstep -\n",
    "         inbfrq -1    ihbfrq -1 -\n",
    "         ilbfrq 1000 nprint 1000\n",
    "\n",
    "endif\n",
    "\n",
    "! 2) CUDA\n",
    "if openmm eq 1 then\n",
    "   omm platform CUDA precision mixed deviceid 0\n",
    "   omm on\n",
    "   energy\n",
    "   dynamics leap start timestep 0.002 nstep @nstep -\n",
    "         ilbfrq 1000 nprint 1000\n",
    "endif\n",
    "\n",
    "```\n",
    "\n",
    "Typing the following commands in a bash environment,\n",
    "```\n",
    "! running simulations\n",
    "$CHARMM openmm=1 -i nve.inp > nve.1gpu.out\n",
    "$CHARMM openmm=0 -i nve.inp > nve.1cpu.out\n",
    "$mpirun -np 8 $CHARMM openmm=0 -i nve.inp > nve.8cpu.out # mpirun is an executable program\n",
    "\n",
    "! analysis\n",
    "grep 'DYNA>' nve.1gpu.out | awk '{print $3, $4}' > nve.1gpu.dat\n",
    "grep 'DYNA>' nve.1cpu.out | awk '{print $3, $4}' > nve.1cpu.dat\n",
    "grep 'DYNA>' nve.8cpu.out | awk '{print $3, $4}' > nve.8cpu.dat\n",
    "```"
   ]
  },
  {
   "cell_type": "markdown",
   "id": "f645f6d1-d95a-4bde-a758-6739c762d8d3",
   "metadata": {},
   "source": [
    "## Langevin dynamic simulation"
   ]
  },
  {
   "cell_type": "markdown",
   "id": "03e0a4a6-7b56-437d-877c-155f3324fff8",
   "metadata": {},
   "source": [
    "The CHARMM input file is \"**langevin.inp**\" showed as below,\n",
    "```\n",
    "if @?pdbid eq 0     set pdbid = fp53\n",
    "if @?openmm eq 0    set openmm = 0\n",
    "if @?label eq 0     set label = cpu\n",
    "if @?deviceid eq 0  set deviceid = 0\n",
    "\n",
    "read  rtf card name top-idpcg-sasa.inp\n",
    "read para card name hb2.0.inp\n",
    "\n",
    "read psf card name @pdbid.psf\n",
    "read coor pdb name @pdbid.pdb\n",
    "\n",
    "! DH electrostatoc potential\n",
    "! --------------------------\n",
    "nbond inbfrq -1\n",
    "NBOND atom switch cdie vdw vswitch -\n",
    "      cutnb 20.0 ctofnb 18.0 ctonnb 16.0 -\n",
    "      eps 20 ionc 0.15\n",
    "\n",
    "! Harmonic restrict\n",
    "! -----------------\n",
    "cons harm clear\n",
    "cons harm force 1.0 sele resid 2 .and. type CA end\n",
    "\n",
    "! Hydrogen-bonding potential\n",
    "! --------------------------\n",
    "hbond ihbfrq -1\n",
    "HBOND NOACCEPTORS  HBNOEXCLUSIONS  ALL  -\n",
    "   CUTHB 6.0 CTOFHB 5.0 CTONHB 4.0  CUTHA 100.0  CTOFHA 70.0  CTONHA 50.0\n",
    "\n",
    "! OpenMM set up\n",
    "! -------------\n",
    "energy\n",
    "if openmm eq 1 then\n",
    "   omm platform CUDA precision mixed deviceid @deviceid\n",
    "   omm on\n",
    "   energy\n",
    "endif\n",
    "\n",
    "! Langevin dynamics\n",
    "!-------------------------------------------------------\n",
    "shake tolerance 1.0e-06 bonh param\n",
    "set timestep = 0.002\n",
    "energy\n",
    "\n",
    "scalar FBETA set 0.2 select .not. hydrogen end\n",
    "set nstep = 50000000 ! 50000000: 100 ns\n",
    "set nprint = 50000 ! 50000: 1 print / 100 ps\n",
    "set nblocks = 9 ! 9 x 100 ns\n",
    "\n",
    "set run = 1\n",
    "open writ card unit 9  name @pdbid.@label.@run.rest\n",
    "open writ file unit 10 name @pdbid.@label.@run.dcd\n",
    "DYNAMICS LEAP LANGEVIN start timestep @timestep nstep @nstep -\n",
    "     iunread -1 iunwri 9 iuncrd 10 -\n",
    "     nprint @nprint nsavc @nprint nsavv -1 isvfrq @nprint iprfrq @nstep -\n",
    "     inbfrq -1 ihbfrq -1 ILBFRQ -1 -\n",
    "     firstt 300.0 finalt 300.0 tbath 300.0 rbuf 0.0\n",
    "! cont.\n",
    "label dynloop\n",
    "   set prerun = @run\n",
    "   incr run by 1\n",
    "   open read card unit 8  name @pdbid.@label.@prerun.rest\n",
    "   open writ card unit 9  name @pdbid.@label.@run.rest\n",
    "   open writ file unit 10 name @pdbid.@label.@run.dcd\n",
    "   DYNAMICS LEAP LANGEVIN restart timestep @timestep nstep @nstep -\n",
    "      iunread 8 iunwri 9 iuncrd 10 -\n",
    "      nprint @nprint nsavc @nprint nsavv -1 isvfrq @nprint iprfrq @nstep -\n",
    "      inbfrq -1 ihbfrq -1 ILBFRQ -1 -\n",
    "      firstt 300.0 finalt 300.0 tbath 300.0 rbuf 0.0\n",
    "if @run lt @nblocks goto dynloop\n",
    "\n",
    "stop\n",
    "\n",
    "```\n",
    "\n",
    "Typing the following commands to run Langevin dynamic simulations,\n",
    "```\n",
    "CHARMM=/home/ping/programs/charmm/build/hyres/charmm\n",
    "mpi=/home/ping/programs/openmpi/openmpi-3.0.0/build/bin/mpirun\n",
    "\n",
    "pdbid=kid1; label=1cpu; \n",
    "$CHARMM label=$label pdbid=$pdbid openmm=0 -i langevin.inp > $pdbid.$label.out &\n",
    "pdbid=kid2; label=1cpu; \n",
    "$CHARMM label=$label pdbid=$pdbid openmm=0 -i langevin.inp > $pdbid.$label.out &\n",
    "\n",
    "pdbid=kid1; label=8cpu; \n",
    "$mpirun -np 8 $CHARMM label=$label pdbid=$pdbid openmm=0 -i langevin.inp > $pdbid.$label.out &\n",
    "pdbid=kid2; label=8cpu; \n",
    "$mpirun -np 8 $CHARMM label=$label pdbid=$pdbid openmm=0 -i langevin.inp > $pdbid.$label.out &\n",
    "\n",
    "pdbid=kid1; label=1gpu; \n",
    "$CHARMM label=$label pdbid=$pdbid openmm=1 deviceid=0 -i langevin.inp > $pdbid.$label.out &\n",
    "pdbid=kid2; label=1gpu; \n",
    "$CHARMM label=$label pdbid=$pdbid openmm=1 deviceid=1 -i langevin.inp > $pdbid.$label.out &\n",
    "\n",
    "wait\n",
    "```"
   ]
  },
  {
   "cell_type": "markdown",
   "id": "33913a87-37a1-439d-9161-21c88756a5a4",
   "metadata": {},
   "source": [
    "# Questions\n",
    "\n",
    "**Q1: What CHARMM version can we use to run GPU-HyRes calculations?**\n",
    "\n",
    "It requires version > c47. If you are not sure, then using some examples to test whether it supports, or not.\n",
    "Also, the HyRes model seems requires a higher version of OpenMM (>7.5.0), because there was a bug in the CustomHbondForce in previous OpenMM versions.\n",
    "\n",
    "**Q2: How to run the GPU-HyRes calculations @pikes workstation?**\n",
    "\n",
    "Using the following commands before running any GPU-HyRes simulations or putting them into your ~/.bashrc file.\n",
    "```\n",
    "# @pikes, faster node\n",
    "# -------------------\n",
    "# GCC\n",
    "module load gcc/6.1.0\n",
    "export GCCTK=/cm/local/apps/gcc/6.1.0\n",
    "export CC=$GCCTK/bin/gcc\n",
    "export CXX=$GCCTK/bin/g++\n",
    "# OPENMM\n",
    "LOCAL=/home/ping/programs/openmm/build/7.5.0\n",
    "export OPENMM_DIR=$LOCAL\n",
    "export OPENMM_LIB_PATH=$LOCAL/lib\n",
    "export OPENMM_INCLUDE_PATH=$LOCAL/include/\n",
    "export OPENMM_PLUGIN_DIR=$LOCAL/lib/plugins\n",
    "# CUDA\n",
    "module load cuda/10.1.243\n",
    "export CUDATK=/cm/shared/apps/cuda/10.1.243\n",
    "export PATH=$CUDATK/lib64:$PATH\n",
    "export PATH=$CUDATK/lib64/stubs:$PATH\n",
    "export PATH=$CUDATK/bin:$PATH\n",
    "export OPENMM_CUDA_COMPILER=$CUDATK/bin/nvcc\n",
    "\n",
    "CHARMM='/home/ping/programs/charmm/build/hyres/charmm'\n",
    "mpirun='/home/ping/programs/openmpi/openmpi-3.0.0/build/bin/mpirun'\n",
    "```\n",
    "\n",
    "**Q3: How to quickly know I can run GPU-HyRes calculations?**\n",
    "\n",
    "Go to the tutorial folder and run directly the ener.inp CHARMM input file.\n"
   ]
  }
 ],
 "metadata": {
  "kernelspec": {
   "display_name": "Python 3 (ipykernel)",
   "language": "python",
   "name": "python3"
  },
  "language_info": {
   "codemirror_mode": {
    "name": "ipython",
    "version": 3
   },
   "file_extension": ".py",
   "mimetype": "text/x-python",
   "name": "python",
   "nbconvert_exporter": "python",
   "pygments_lexer": "ipython3",
   "version": "3.8.10"
  }
 },
 "nbformat": 4,
 "nbformat_minor": 5
}
